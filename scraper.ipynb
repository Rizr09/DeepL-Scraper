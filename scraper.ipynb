{
 "cells": [
  {
   "cell_type": "code",
   "execution_count": null,
   "metadata": {
    "pycharm": {
     "name": "#%%\n"
    }
   },
   "outputs": [],
   "source": [
    "!pip install selenium\n",
    "!apt-get update # to update ubuntu to correctly run apt install\n",
    "!apt install chromium-chromedriver\n",
    "!cp /usr/lib/chromium-browser/chromedriver /usr/bin\n",
    "import sys\n",
    "sys.path.insert(0,'/usr/lib/chromium-browser/chromedriver')\n",
    "from selenium import webdriver\n",
    "from selenium.webdriver.common.by import By\n",
    "import time\n",
    "chrome_options = webdriver.ChromeOptions()\n",
    "chrome_options.add_argument('--headless')\n",
    "chrome_options.add_argument('--no-sandbox')\n",
    "chrome_options.add_argument('--disable-dev-shm-usage')\n",
    "wd = webdriver.Chrome('chromedriver',options=chrome_options)"
   ]
  },
  {
   "cell_type": "code",
   "execution_count": null,
   "metadata": {
    "pycharm": {
     "name": "#%%\n"
    }
   },
   "outputs": [],
   "source": [
    "def parser(text):\n",
    "    special_char = (\n",
    "        (\"%\", \"%25\"),\n",
    "        (\" \", \"%20\"),\n",
    "        (\",\", \"%2C\"),\n",
    "        (\"?\", \"%3F\"),\n",
    "        (\"\\n\", \"%0A\"),\n",
    "        ('\\\"', \"%22\"),\n",
    "        (\"<\", \"%3C\"),\n",
    "        (\">\", \"%3E\"),\n",
    "        (\"#\", \"%23\"),\n",
    "        (\"|\", \"%7C\"),\n",
    "        (\"&\", \"%26\"),\n",
    "        (\"=\", \"%3D\"),\n",
    "        (\"@\", \"%40\"),\n",
    "        (\"#\", \"%23\"),\n",
    "        (\"$\", \"%24\"),\n",
    "        (\"^\", \"%5E\"),\n",
    "        (\"`\", \"%60\"),\n",
    "        (\"+\", \"%2B\"),\n",
    "        (\"\\'\", \"%27\"),\n",
    "        (\"{\", \"%7B\"),\n",
    "        (\"}\", \"%7D\"),\n",
    "        (\"[\", \"%5B\"),\n",
    "        (\"]\", \"%5D\"),\n",
    "        (\"/\", \"%2F\"),\n",
    "        (\"\\\\\", \"%5C\"),\n",
    "        (\":\", \"%3A\"),\n",
    "        (\";\", \"%3B\")\n",
    "    )\n",
    "    \n",
    "    for word in special_char:\n",
    "        text = text.replace(*word)  # replace all words that contains special character with browser format\n",
    "    return text"
   ]
  },
  {
   "cell_type": "markdown",
   "metadata": {},
   "source": [
    "Please refer to [here](https://miraitranslate.com/en/trial/#en/) for avalable target languages based on their source"
   ]
  },
  {
   "cell_type": "code",
   "execution_count": null,
   "metadata": {},
   "outputs": [],
   "source": [
    "text = str(input(\"Enter text that you want to translate it: \"))\n",
    "source =  str(input(\"Enter the source language (ex: ja, en, id): \"))\n",
    "target  = str(input(\"Enter the target language (ex: ja, en, id): \"))\n",
    "\n",
    "txt = text\n",
    "text = parser(text)\n",
    "link = f\"https://miraitranslate.com/en/trial/#{source}/{target}/{text}\"\n",
    "print(link)\n",
    "wd.get(link)\n",
    "time.sleep(5)\n",
    "try:\n",
    "    scrape = wd.find_element(By.ID, \"translation-input\")\n",
    "except:\n",
    "    scrape = wd.find_element(By.ID, \"trans-sentence0\")"
   ]
  },
  {
   "cell_type": "code",
   "execution_count": null,
   "metadata": {},
   "outputs": [],
   "source": [
    "result = (scrape.get_attribute(\"textContent\"))\n",
    "print(f\"{txt} in {target} is {result}\")"
   ]
  },
  {
   "cell_type": "code",
   "execution_count": null,
   "metadata": {},
   "outputs": [],
   "source": [
    "wd.close()  # only run if you want to exit the session or if something unexpected happens"
   ]
  }
 ],
 "metadata": {
  "kernelspec": {
   "display_name": "Python 3 (ipykernel)",
   "language": "python",
   "name": "python3"
  },
  "language_info": {
   "codemirror_mode": {
    "name": "ipython",
    "version": 3
   },
   "file_extension": ".py",
   "mimetype": "text/x-python",
   "name": "python",
   "nbconvert_exporter": "python",
   "pygments_lexer": "ipython3",
   "version": "3.9.6"
  }
 },
 "nbformat": 4,
 "nbformat_minor": 2
}
